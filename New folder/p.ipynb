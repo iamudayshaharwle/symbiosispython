{
 "cells": [
  {
   "cell_type": "code",
   "execution_count": 11,
   "metadata": {},
   "outputs": [
    {
     "data": {
      "text/plain": [
       "'num is odd'"
      ]
     },
     "execution_count": 11,
     "metadata": {},
     "output_type": "execute_result"
    }
   ],
   "source": [
    "def is_even(num):\n",
    "    '''hi im pintya'''\n",
    "    if type(num)== int:\n",
    "      if num%2==0:\n",
    "        return 'num is even'\n",
    "      else:\n",
    "        return 'num is odd'\n",
    "    else:\n",
    "        return\" invalid input\"\n",
    "is_even(45)"
   ]
  },
  {
   "cell_type": "code",
   "execution_count": 9,
   "metadata": {},
   "outputs": [
    {
     "name": "stdout",
     "output_type": "stream",
     "text": [
      "num is odd\n",
      "num is even\n",
      "num is odd\n",
      "num is even\n",
      "num is odd\n",
      "num is even\n",
      "num is odd\n",
      "num is even\n",
      "num is odd\n",
      "num is even\n"
     ]
    }
   ],
   "source": [
    "for i in range(1,11):\n",
    "    x= is_even(i)\n",
    "    print(x)"
   ]
  },
  {
   "cell_type": "code",
   "execution_count": 12,
   "metadata": {},
   "outputs": [
    {
     "data": {
      "text/plain": [
       "'hi im pintya'"
      ]
     },
     "execution_count": 12,
     "metadata": {},
     "output_type": "execute_result"
    }
   ],
   "source": [
    "is_even.__doc__"
   ]
  },
  {
   "cell_type": "code",
   "execution_count": 17,
   "metadata": {},
   "outputs": [
    {
     "data": {
      "text/plain": [
       "4782969"
      ]
     },
     "execution_count": 17,
     "metadata": {},
     "output_type": "execute_result"
    }
   ],
   "source": [
    "def power(n,x):\n",
    "    s = n**x\n",
    "    return s\n",
    "power(9,7)"
   ]
  },
  {
   "cell_type": "code",
   "execution_count": 19,
   "metadata": {},
   "outputs": [
    {
     "data": {
      "text/plain": [
       "216"
      ]
     },
     "execution_count": 19,
     "metadata": {},
     "output_type": "execute_result"
    }
   ],
   "source": [
    "\n"
   ]
  },
  {
   "cell_type": "code",
   "execution_count": 21,
   "metadata": {},
   "outputs": [
    {
     "data": {
      "text/plain": [
       "1"
      ]
     },
     "execution_count": 21,
     "metadata": {},
     "output_type": "execute_result"
    }
   ],
   "source": [
    "def power(a=1,b=1):\n",
    "    return a**b\n",
    "power()"
   ]
  },
  {
   "cell_type": "code",
   "execution_count": 24,
   "metadata": {},
   "outputs": [
    {
     "data": {
      "text/plain": [
       "60"
      ]
     },
     "execution_count": 24,
     "metadata": {},
     "output_type": "execute_result"
    }
   ],
   "source": [
    "def mul(a=1,b=1,c=1):\n",
    "    return a*b*c\n",
    "mul(4,5,3)\n",
    "    "
   ]
  },
  {
   "cell_type": "code",
   "execution_count": 33,
   "metadata": {},
   "outputs": [
    {
     "name": "stdout",
     "output_type": "stream",
     "text": [
      "(8, 4, 2, 6, 3, 2)\n"
     ]
    },
    {
     "data": {
      "text/plain": [
       "2304"
      ]
     },
     "execution_count": 33,
     "metadata": {},
     "output_type": "execute_result"
    }
   ],
   "source": [
    "def multi(*args):\n",
    "    product = 1\n",
    "    for i in (args):\n",
    "        product *= i\n",
    "    print(args)   \n",
    "    return product   \n",
    "\n",
    "multi(8,4,2,6,3,2) \n"
   ]
  },
  {
   "cell_type": "code",
   "execution_count": 36,
   "metadata": {},
   "outputs": [
    {
     "name": "stdout",
     "output_type": "stream",
     "text": [
      "india ---> delhi\n",
      "srilanka ---> colmbo\n",
      "nepal ---> katmandu\n",
      "pakistan ---> isalamabad\n"
     ]
    }
   ],
   "source": [
    "def display(**kwargs):\n",
    "    for key,value in kwargs.items():\n",
    "        print(f'{key} ---> {value}')\n",
    "\n",
    "display(india='delhi',srilanka='colmbo',nepal='katmandu',pakistan='isalamabad')\n"
   ]
  },
  {
   "cell_type": "code",
   "execution_count": 37,
   "metadata": {},
   "outputs": [
    {
     "name": "stdout",
     "output_type": "stream",
     "text": [
      "None\n"
     ]
    }
   ],
   "source": [
    "#function witout statment\n",
    "l=[1,2,3,4]\n",
    "print(l.append(5))"
   ]
  },
  {
   "cell_type": "code",
   "execution_count": 6,
   "metadata": {},
   "outputs": [
    {
     "data": {
      "text/plain": [
       "'even'"
      ]
     },
     "execution_count": 6,
     "metadata": {},
     "output_type": "execute_result"
    }
   ],
   "source": [
    "n=lambda x: 'even' if x%2==0 else 'odd'\n",
    "n(4)"
   ]
  },
  {
   "cell_type": "code",
   "execution_count": 15,
   "metadata": {},
   "outputs": [
    {
     "name": "stdout",
     "output_type": "stream",
     "text": [
      "8\n",
      "27\n",
      "64\n",
      "125\n"
     ]
    }
   ],
   "source": [
    "def cube(li):\n",
    "    for i in li:\n",
    "        i=i**3\n",
    "        print(i)\n",
    "    \n",
    "li=[2,3,4,5]    \n",
    "cube(li)"
   ]
  },
  {
   "cell_type": "code",
   "execution_count": 11,
   "metadata": {},
   "outputs": [
    {
     "name": "stdout",
     "output_type": "stream",
     "text": [
      "[8, 27, 125, 64, 216]\n"
     ]
    }
   ],
   "source": [
    "def trans (f,l):\n",
    "    output=[]\n",
    "    for i in l:\n",
    "        output.append(f(i))\n",
    "    print(output)    \n",
    "l=[2,3,5,4,6]    \n",
    "trans(lambda x:x**3,l)\n"
   ]
  },
  {
   "cell_type": "code",
   "execution_count": 20,
   "metadata": {},
   "outputs": [
    {
     "data": {
      "text/plain": [
       "[1, 4, 9, 16, 25]"
      ]
     },
     "execution_count": 20,
     "metadata": {},
     "output_type": "execute_result"
    }
   ],
   "source": [
    "list(map(lambda x:x**2,[1,2,3,4,5]))\n"
   ]
  },
  {
   "cell_type": "code",
   "execution_count": 23,
   "metadata": {},
   "outputs": [
    {
     "data": {
      "text/plain": [
       "['odd', 'even', 'odd', 'even']"
      ]
     },
     "execution_count": 23,
     "metadata": {},
     "output_type": "execute_result"
    }
   ],
   "source": [
    "list(map(lambda x:'even'if x%2==0 else 'odd',[1,2,3,4]))"
   ]
  },
  {
   "cell_type": "code",
   "execution_count": 37,
   "metadata": {},
   "outputs": [
    {
     "data": {
      "text/plain": [
       "['rahul', 'aniket', 'riya']"
      ]
     },
     "execution_count": 37,
     "metadata": {},
     "output_type": "execute_result"
    }
   ],
   "source": [
    "user=[{\n",
    "    'name':'rahul',\n",
    "    'age':23,\n",
    "    'gender':'male'\n",
    "},\n",
    "{\n",
    "    'name':'aniket',\n",
    "    'age':24,\n",
    "    'gender':'male'\n",
    "},\n",
    "{\n",
    "    'name':'riya',\n",
    "    'age':21,\n",
    "    'gender':\"female\"\n",
    "}]\n",
    "\n",
    "list(map(lambda x: x['name'],user))"
   ]
  },
  {
   "cell_type": "code",
   "execution_count": 39,
   "metadata": {},
   "outputs": [
    {
     "data": {
      "text/plain": [
       "[6, 9, 6, 23, 43, 14]"
      ]
     },
     "execution_count": 39,
     "metadata": {},
     "output_type": "execute_result"
    }
   ],
   "source": [
    "l=[1,4,6,3,9,3,6,23,43,14]\n",
    "list(filter(lambda x:x>5,l))"
   ]
  },
  {
   "cell_type": "code",
   "execution_count": 47,
   "metadata": {},
   "outputs": [
    {
     "data": {
      "text/plain": [
       "['cherry']"
      ]
     },
     "execution_count": 47,
     "metadata": {},
     "output_type": "execute_result"
    }
   ],
   "source": [
    "fruits=['apple','cherry','kiwi']\n",
    "list(filter(lambda x:x.startswith('c'),fruits))"
   ]
  },
  {
   "cell_type": "code",
   "execution_count": 48,
   "metadata": {},
   "outputs": [
    {
     "data": {
      "text/plain": [
       "15"
      ]
     },
     "execution_count": 48,
     "metadata": {},
     "output_type": "execute_result"
    }
   ],
   "source": [
    "import functools as fc\n",
    "fc.reduce(lambda x,y:x+y ,[1,2,3,4,5])\n"
   ]
  },
  {
   "cell_type": "code",
   "execution_count": 60,
   "metadata": {},
   "outputs": [
    {
     "data": {
      "text/plain": [
       "32"
      ]
     },
     "execution_count": 60,
     "metadata": {},
     "output_type": "execute_result"
    }
   ],
   "source": [
    "l =[44,69,35,83,56,43,65,32]\n",
    "fc.reduce(lambda x,y:x if x<y else y,l)\n"
   ]
  },
  {
   "cell_type": "code",
   "execution_count": null,
   "metadata": {},
   "outputs": [],
   "source": [
    "print(\"Hello\")"
   ]
  }
 ],
 "metadata": {
  "kernelspec": {
   "display_name": "Python 3",
   "language": "python",
   "name": "python3"
  },
  "language_info": {
   "codemirror_mode": {
    "name": "ipython",
    "version": 3
   },
   "file_extension": ".py",
   "mimetype": "text/x-python",
   "name": "python",
   "nbconvert_exporter": "python",
   "pygments_lexer": "ipython3",
   "version": "3.12.3"
  }
 },
 "nbformat": 4,
 "nbformat_minor": 2
}
